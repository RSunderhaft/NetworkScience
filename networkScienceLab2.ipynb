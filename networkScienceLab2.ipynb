{
 "cells": [
  {
   "cell_type": "code",
   "execution_count": 1,
   "metadata": {},
   "outputs": [],
   "source": [
    "# Library imports\n",
    "import networkx as nx\n",
    "import numpy as np\n",
    "import pandas as pd\n",
    "import matplotlib.pyplot as plt\n",
    "from helper import print_results, metis_map"
   ]
  },
  {
   "attachments": {},
   "cell_type": "markdown",
   "metadata": {},
   "source": [
    "# Prunning Youtube Network for Analysis"
   ]
  },
  {
   "cell_type": "code",
   "execution_count": null,
   "metadata": {},
   "outputs": [],
   "source": [
    "youtubeG = nx.read_edgelist(\"data/com-youtube.ungraph.txt\", create_using = nx.Graph, nodetype = int)"
   ]
  },
  {
   "attachments": {},
   "cell_type": "markdown",
   "metadata": {},
   "source": [
    "The next cell will make the youtube network much smaller so we can "
   ]
  },
  {
   "cell_type": "code",
   "execution_count": null,
   "metadata": {},
   "outputs": [],
   "source": [
    "\n",
    "# Obtains list of degrees that have degree less than 3\n",
    "degree_Thres = 6\n",
    "remove = [node for node,degree in dict(youtubeG.degree()).items() if  degree < degree_Thres]\n",
    "\n",
    "# Removes nodes with small degree and creates sparse matrix\n",
    "youtubeG.remove_nodes_from(remove)\n",
    "nx.write_edgelist(youtubeG,'youtube_sparse.txt', data=False)\n"
   ]
  },
  {
   "attachments": {},
   "cell_type": "markdown",
   "metadata": {},
   "source": [
    "# Cluster Analysis"
   ]
  },
  {
   "attachments": {},
   "cell_type": "markdown",
   "metadata": {},
   "source": [
    "### Data Imports\n",
    "Load in every graph. We'll look at some simple metrics to get some baseline understanding."
   ]
  },
  {
   "cell_type": "code",
   "execution_count": 12,
   "metadata": {},
   "outputs": [
    {
     "data": {
      "text/html": [
       "<div>\n",
       "<style scoped>\n",
       "    .dataframe tbody tr th:only-of-type {\n",
       "        vertical-align: middle;\n",
       "    }\n",
       "\n",
       "    .dataframe tbody tr th {\n",
       "        vertical-align: top;\n",
       "    }\n",
       "\n",
       "    .dataframe thead th {\n",
       "        text-align: right;\n",
       "    }\n",
       "</style>\n",
       "<table border=\"1\" class=\"dataframe\">\n",
       "  <thead>\n",
       "    <tr style=\"text-align: right;\">\n",
       "      <th></th>\n",
       "      <th>Graph</th>\n",
       "      <th>Node Count</th>\n",
       "      <th>Edge Count</th>\n",
       "    </tr>\n",
       "  </thead>\n",
       "  <tbody>\n",
       "    <tr>\n",
       "      <th>0</th>\n",
       "      <td>Wikipedia</td>\n",
       "      <td>7115</td>\n",
       "      <td>100762</td>\n",
       "    </tr>\n",
       "    <tr>\n",
       "      <th>1</th>\n",
       "      <td>Collaborations</td>\n",
       "      <td>5242</td>\n",
       "      <td>14496</td>\n",
       "    </tr>\n",
       "    <tr>\n",
       "      <th>2</th>\n",
       "      <td>Gnutella</td>\n",
       "      <td>6301</td>\n",
       "      <td>20777</td>\n",
       "    </tr>\n",
       "    <tr>\n",
       "      <th>3</th>\n",
       "      <td>Facebook</td>\n",
       "      <td>4039</td>\n",
       "      <td>88234</td>\n",
       "    </tr>\n",
       "    <tr>\n",
       "      <th>4</th>\n",
       "      <td>Youtube</td>\n",
       "      <td>1134890</td>\n",
       "      <td>2987624</td>\n",
       "    </tr>\n",
       "  </tbody>\n",
       "</table>\n",
       "</div>"
      ],
      "text/plain": [
       "            Graph  Node Count  Edge Count\n",
       "0       Wikipedia        7115      100762\n",
       "1  Collaborations        5242       14496\n",
       "2        Gnutella        6301       20777\n",
       "3        Facebook        4039       88234\n",
       "4         Youtube     1134890     2987624"
      ]
     },
     "execution_count": 12,
     "metadata": {},
     "output_type": "execute_result"
    }
   ],
   "source": [
    "wikiG = nx.read_edgelist(\"input/wiki-Vote.txt\", create_using = nx.Graph, nodetype = int)\n",
    "collabG = nx.read_edgelist(\"input/ca-GrQc.txt\", create_using = nx.Graph, nodetype = int)\n",
    "p2pG = nx.read_edgelist(\"input/p2p-Gnutella08.txt\", create_using = nx.Graph, nodetype = int)\n",
    "fbG = nx.read_edgelist(\"input/facebook_combined.txt\", create_using = nx.Graph, nodetype = int)\n",
    "youtubeG = nx.read_edgelist(\"input/com-youtube.ungraph.txt\", create_using = nx.Graph, nodetype = int)\n",
    "    \n",
    "pd.DataFrame({\"Graph\": [\"Wikipedia\", \"Collaborations\", \"Gnutella\", \"Facebook\", \"Youtube\"],\n",
    "    \"Node Count\": [wikiG.number_of_nodes(), collabG.number_of_nodes(), p2pG.number_of_nodes(), fbG.number_of_nodes(), youtubeG.number_of_nodes()],\n",
    "    \"Edge Count\": [wikiG.number_of_edges(), collabG.number_of_edges(), p2pG.number_of_edges(), fbG.number_of_edges(), youtubeG.number_of_edges()]})"
   ]
  },
  {
   "attachments": {},
   "cell_type": "markdown",
   "metadata": {},
   "source": [
    "We use the following code to find a mapping between our Node_IDs from our original text files to our Node_IDs in the METIS files. Note that all helper functions can be found in helper.py."
   ]
  },
  {
   "cell_type": "code",
   "execution_count": null,
   "metadata": {},
   "outputs": [],
   "source": [
    "names = [\"wiki-Vote\", \"p2p-Gnutella08\", \"facebook_combined\", \"ca-GrQc\", \"com-youtube.ungraph\"]\n",
    "for i in names:\n",
    "    fname = \"input/\" + i + \".txt\"\n",
    "    obj_fname = \"MetisAlgo/\" + i + \"_map.obj\"\n",
    "    metis_map(fname, obj_fname)"
   ]
  },
  {
   "attachments": {},
   "cell_type": "markdown",
   "metadata": {},
   "source": [
    "### Wiki-Vote"
   ]
  },
  {
   "attachments": {},
   "cell_type": "markdown",
   "metadata": {},
   "source": [
    "Now we'll pull the three metrics (modularity, ncut, and condunctance) for clusterings without ground truth. We can get a good idea for how well each algorithm was able to group nodes with high edge density together."
   ]
  },
  {
   "cell_type": "code",
   "execution_count": 4,
   "metadata": {},
   "outputs": [],
   "source": [
    "name = names[0]\n",
    "mcl = print_results(wikiG, name, \"mcl\")\n",
    "metis = print_results(wikiG, name, \"metis\")\n",
    "community = print_results(wikiG, name, \"community\")"
   ]
  },
  {
   "attachments": {},
   "cell_type": "markdown",
   "metadata": {},
   "source": [
    "According to modularity, it seems as though the Clauset-Newman-Moore algorithm performed the best. As we can recall from Lab 1, the Wikipedia Vote network was our only directed graph. Unfortunately, none of our clustering algorithms were compatible with this information, so we had to treat it as undirected. The low modularity values for MCL and METIS could be attributed to this fact.\n",
    "\n"
   ]
  },
  {
   "cell_type": "code",
   "execution_count": 7,
   "metadata": {},
   "outputs": [
    {
     "name": "stdout",
     "output_type": "stream",
     "text": [
      "Modularity of MCL: 0.01080145681798467\n",
      "Modularity of METIS: 0.004638421479492384\n",
      "Modularity of Communities: 0.35004242922498335\n"
     ]
    }
   ],
   "source": [
    "print(\"Modularity of MCL:\", mcl.Modularity[0])\n",
    "print(\"Modularity of METIS:\", metis.Modularity[0])\n",
    "print(\"Modularity of Communities:\", community.Modularity[0])"
   ]
  },
  {
   "attachments": {},
   "cell_type": "markdown",
   "metadata": {},
   "source": [
    "### Peer-To-Peer Filesharing"
   ]
  },
  {
   "cell_type": "code",
   "execution_count": null,
   "metadata": {},
   "outputs": [],
   "source": [
    "name = names[1]\n",
    "mcl = print_results(wikiG, name, \"mcl\")\n",
    "metis = print_results(wikiG, name, \"metis\")\n",
    "community = print_results(wikiG, name, \"community\")"
   ]
  },
  {
   "attachments": {},
   "cell_type": "markdown",
   "metadata": {},
   "source": [
    "### Facebook"
   ]
  },
  {
   "cell_type": "code",
   "execution_count": null,
   "metadata": {},
   "outputs": [],
   "source": [
    "name = names[0]\n",
    "mcl = print_results(wikiG, name, \"mcl\")\n",
    "metis = print_results(wikiG, name, \"metis\")\n",
    "community = print_results(wikiG, name, \"community\")"
   ]
  },
  {
   "attachments": {},
   "cell_type": "markdown",
   "metadata": {},
   "source": [
    "### Collaborations"
   ]
  },
  {
   "cell_type": "code",
   "execution_count": 18,
   "metadata": {},
   "outputs": [
    {
     "data": {
      "text/html": [
       "<div>\n",
       "<style scoped>\n",
       "    .dataframe tbody tr th:only-of-type {\n",
       "        vertical-align: middle;\n",
       "    }\n",
       "\n",
       "    .dataframe tbody tr th {\n",
       "        vertical-align: top;\n",
       "    }\n",
       "\n",
       "    .dataframe thead th {\n",
       "        text-align: right;\n",
       "    }\n",
       "</style>\n",
       "<table border=\"1\" class=\"dataframe\">\n",
       "  <thead>\n",
       "    <tr style=\"text-align: right;\">\n",
       "      <th></th>\n",
       "      <th>Modularity</th>\n",
       "      <th>n-cut</th>\n",
       "      <th>Conductance</th>\n",
       "    </tr>\n",
       "  </thead>\n",
       "  <tbody>\n",
       "    <tr>\n",
       "      <th>0</th>\n",
       "      <td>0.001119</td>\n",
       "      <td>1.000000</td>\n",
       "      <td>1.000000</td>\n",
       "    </tr>\n",
       "    <tr>\n",
       "      <th>1</th>\n",
       "      <td>0.001119</td>\n",
       "      <td>1.000000</td>\n",
       "      <td>1.000000</td>\n",
       "    </tr>\n",
       "    <tr>\n",
       "      <th>2</th>\n",
       "      <td>0.001119</td>\n",
       "      <td>1.000000</td>\n",
       "      <td>1.000000</td>\n",
       "    </tr>\n",
       "    <tr>\n",
       "      <th>3</th>\n",
       "      <td>0.001119</td>\n",
       "      <td>0.991189</td>\n",
       "      <td>0.991189</td>\n",
       "    </tr>\n",
       "    <tr>\n",
       "      <th>4</th>\n",
       "      <td>0.001119</td>\n",
       "      <td>1.000000</td>\n",
       "      <td>1.000000</td>\n",
       "    </tr>\n",
       "    <tr>\n",
       "      <th>...</th>\n",
       "      <td>...</td>\n",
       "      <td>...</td>\n",
       "      <td>...</td>\n",
       "    </tr>\n",
       "    <tr>\n",
       "      <th>748</th>\n",
       "      <td>0.001119</td>\n",
       "      <td>1.000000</td>\n",
       "      <td>1.000000</td>\n",
       "    </tr>\n",
       "    <tr>\n",
       "      <th>749</th>\n",
       "      <td>0.001119</td>\n",
       "      <td>1.000000</td>\n",
       "      <td>1.000000</td>\n",
       "    </tr>\n",
       "    <tr>\n",
       "      <th>750</th>\n",
       "      <td>0.001119</td>\n",
       "      <td>1.000000</td>\n",
       "      <td>1.000000</td>\n",
       "    </tr>\n",
       "    <tr>\n",
       "      <th>751</th>\n",
       "      <td>0.001119</td>\n",
       "      <td>1.000000</td>\n",
       "      <td>1.000000</td>\n",
       "    </tr>\n",
       "    <tr>\n",
       "      <th>752</th>\n",
       "      <td>0.001119</td>\n",
       "      <td>1.000000</td>\n",
       "      <td>1.000000</td>\n",
       "    </tr>\n",
       "  </tbody>\n",
       "</table>\n",
       "<p>753 rows × 3 columns</p>\n",
       "</div>"
      ],
      "text/plain": [
       "     Modularity     n-cut  Conductance\n",
       "0      0.001119  1.000000     1.000000\n",
       "1      0.001119  1.000000     1.000000\n",
       "2      0.001119  1.000000     1.000000\n",
       "3      0.001119  0.991189     0.991189\n",
       "4      0.001119  1.000000     1.000000\n",
       "..          ...       ...          ...\n",
       "748    0.001119  1.000000     1.000000\n",
       "749    0.001119  1.000000     1.000000\n",
       "750    0.001119  1.000000     1.000000\n",
       "751    0.001119  1.000000     1.000000\n",
       "752    0.001119  1.000000     1.000000\n",
       "\n",
       "[753 rows x 3 columns]"
      ]
     },
     "execution_count": 18,
     "metadata": {},
     "output_type": "execute_result"
    }
   ],
   "source": [
    "collabG.remove_nodes_from([12295])\n",
    "print_results(collabG, \"ca-GrQc\", \"mcl\")"
   ]
  },
  {
   "cell_type": "code",
   "execution_count": 11,
   "metadata": {},
   "outputs": [
    {
     "name": "stdout",
     "output_type": "stream",
     "text": [
      "[16703 16703]\n",
      "[11372 11372]\n",
      "[1343 1343]\n",
      "[4442 4442]\n",
      "[18314 18314]\n",
      "[11318 11318]\n",
      "[25777 25777]\n",
      "[14840 14840]\n",
      "[6648 6648]\n",
      "[13 13]\n",
      "[4685 4685]\n",
      "[12295 12295]\n"
     ]
    }
   ],
   "source": [
    "collab = np.loadtxt(\"input/ca-GrQc.txt\", dtype = int)\n",
    "for i in collab:\n",
    "    if i[0] == i[1]:\n",
    "        print(i)"
   ]
  },
  {
   "cell_type": "code",
   "execution_count": 10,
   "metadata": {},
   "outputs": [
    {
     "name": "stdout",
     "output_type": "stream",
     "text": [
      "{12295}\n"
     ]
    }
   ],
   "source": [
    "for c in nx.connected_components(collabG):\n",
    "    if len(c) == 1:\n",
    "        print(c)"
   ]
  },
  {
   "attachments": {},
   "cell_type": "markdown",
   "metadata": {},
   "source": [
    "### Youtube"
   ]
  },
  {
   "cell_type": "code",
   "execution_count": null,
   "metadata": {},
   "outputs": [],
   "source": [
    "print_results(youtubeG, names[4], \"mcl\")"
   ]
  }
 ],
 "metadata": {
  "kernelspec": {
   "display_name": "Python 3",
   "language": "python",
   "name": "python3"
  },
  "language_info": {
   "codemirror_mode": {
    "name": "ipython",
    "version": 3
   },
   "file_extension": ".py",
   "mimetype": "text/x-python",
   "name": "python",
   "nbconvert_exporter": "python",
   "pygments_lexer": "ipython3",
   "version": "3.9.6"
  },
  "orig_nbformat": 4,
  "vscode": {
   "interpreter": {
    "hash": "31f2aee4e71d21fbe5cf8b01ff0e069b9275f58929596ceb00d14d90e3e16cd6"
   }
  }
 },
 "nbformat": 4,
 "nbformat_minor": 2
}
