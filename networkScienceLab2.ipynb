{
 "cells": [
  {
   "cell_type": "code",
   "execution_count": 4,
   "metadata": {},
   "outputs": [],
   "source": [
    "# Library imports\n",
    "import networkx as nx\n",
    "import numpy as np\n",
    "import pandas as pd\n",
    "import matplotlib.pyplot as plt\n",
    "from Snap2Metis import metis_map\n",
    "import pickle"
   ]
  },
  {
   "attachments": {},
   "cell_type": "markdown",
   "metadata": {},
   "source": [
    "# Prunning Youtube Network for Analysis"
   ]
  },
  {
   "cell_type": "code",
   "execution_count": null,
   "metadata": {},
   "outputs": [],
   "source": [
    "youtubeG = nx.read_edgelist(\"data/com-youtube.ungraph.txt\", create_using = nx.Graph, nodetype = int)"
   ]
  },
  {
   "attachments": {},
   "cell_type": "markdown",
   "metadata": {},
   "source": [
    "The next cell will make the youtube network much smaller so we can "
   ]
  },
  {
   "cell_type": "code",
   "execution_count": null,
   "metadata": {},
   "outputs": [],
   "source": [
    "\n",
    "# Obtains list of degrees that have degree less than 3\n",
    "degree_Thres = 6\n",
    "remove = [node for node,degree in dict(youtubeG.degree()).items() if  degree < degree_Thres]\n",
    "\n",
    "# Removes nodes with small degree and creates sparse matrix\n",
    "youtubeG.remove_nodes_from(remove)\n",
    "nx.write_edgelist(youtubeG,'youtube_sparse.txt', data=False)\n"
   ]
  },
  {
   "attachments": {},
   "cell_type": "markdown",
   "metadata": {},
   "source": [
    "# Cluster Analysis"
   ]
  },
  {
   "attachments": {},
   "cell_type": "markdown",
   "metadata": {},
   "source": [
    "Load in every graph (not YouTube yet). We'll look at some simple metrics to get some baseline understanding."
   ]
  },
  {
   "cell_type": "code",
   "execution_count": 27,
   "metadata": {},
   "outputs": [
    {
     "data": {
      "text/html": [
       "<div>\n",
       "<style scoped>\n",
       "    .dataframe tbody tr th:only-of-type {\n",
       "        vertical-align: middle;\n",
       "    }\n",
       "\n",
       "    .dataframe tbody tr th {\n",
       "        vertical-align: top;\n",
       "    }\n",
       "\n",
       "    .dataframe thead th {\n",
       "        text-align: right;\n",
       "    }\n",
       "</style>\n",
       "<table border=\"1\" class=\"dataframe\">\n",
       "  <thead>\n",
       "    <tr style=\"text-align: right;\">\n",
       "      <th></th>\n",
       "      <th>Graph</th>\n",
       "      <th>Node Count</th>\n",
       "      <th>Edge Count</th>\n",
       "    </tr>\n",
       "  </thead>\n",
       "  <tbody>\n",
       "    <tr>\n",
       "      <th>0</th>\n",
       "      <td>Wikipedia</td>\n",
       "      <td>7115.00</td>\n",
       "      <td>100762.00</td>\n",
       "    </tr>\n",
       "    <tr>\n",
       "      <th>1</th>\n",
       "      <td>Collaborations</td>\n",
       "      <td>5242.00</td>\n",
       "      <td>14496.00</td>\n",
       "    </tr>\n",
       "    <tr>\n",
       "      <th>2</th>\n",
       "      <td>Gnutella</td>\n",
       "      <td>6301.00</td>\n",
       "      <td>20777.00</td>\n",
       "    </tr>\n",
       "    <tr>\n",
       "      <th>3</th>\n",
       "      <td>Facebook</td>\n",
       "      <td>4039.00</td>\n",
       "      <td>88234.00</td>\n",
       "    </tr>\n",
       "    <tr>\n",
       "      <th>4</th>\n",
       "      <td>Mean(G)</td>\n",
       "      <td>5674.25</td>\n",
       "      <td>56067.25</td>\n",
       "    </tr>\n",
       "  </tbody>\n",
       "</table>\n",
       "</div>"
      ],
      "text/plain": [
       "            Graph  Node Count  Edge Count\n",
       "0       Wikipedia     7115.00   100762.00\n",
       "1  Collaborations     5242.00    14496.00\n",
       "2        Gnutella     6301.00    20777.00\n",
       "3        Facebook     4039.00    88234.00\n",
       "4         Mean(G)     5674.25    56067.25"
      ]
     },
     "execution_count": 27,
     "metadata": {},
     "output_type": "execute_result"
    }
   ],
   "source": [
    "wikiG = nx.read_edgelist(\"input/wiki-Vote.txt\", create_using = nx.Graph, nodetype = int)\n",
    "collabG = nx.read_edgelist(\"input/ca-GrQc.txt\", create_using = nx.Graph, nodetype = int)\n",
    "p2pG = nx.read_edgelist(\"input/p2p-Gnutella08.txt\", create_using = nx.Graph, nodetype = int)\n",
    "fbG = nx.read_edgelist(\"input/facebook_combined.txt\", create_using = nx.Graph, nodetype = int)\n",
    "\n",
    "mean_nodes = (wikiG.number_of_nodes() + collabG.number_of_nodes() + p2pG.number_of_nodes() + fbG.number_of_nodes()) / 4\n",
    "mean_edges = (wikiG.number_of_edges() + collabG.number_of_edges() + p2pG.number_of_edges() + fbG.number_of_edges()) / 4\n",
    "pd.DataFrame({\"Graph\": [\"Wikipedia\", \"Collaborations\", \"Gnutella\", \"Facebook\", \"Mean(G)\"],\n",
    "    \"Node Count\": [wikiG.number_of_nodes(), collabG.number_of_nodes(), p2pG.number_of_nodes(), fbG.number_of_nodes(), mean_nodes],\n",
    "    \"Edge Count\": [wikiG.number_of_edges(), collabG.number_of_edges(), p2pG.number_of_edges(), fbG.number_of_edges(), mean_edges]})"
   ]
  },
  {
   "attachments": {},
   "cell_type": "markdown",
   "metadata": {},
   "source": [
    "These few lines will import our clustering and also get our mapping from the METIS function"
   ]
  },
  {
   "cell_type": "code",
   "execution_count": 28,
   "metadata": {},
   "outputs": [
    {
     "name": "stdout",
     "output_type": "stream",
     "text": [
      "The graph is undirected.\n",
      "7115 103689\n"
     ]
    }
   ],
   "source": [
    "wikiCluster = np.loadtxt(\"output/wiki-Vote.metis.part.100\", dtype=int) #load cluster output\n",
    "metis_map(\"input/wiki-Vote.txt\", \"wiki-Vote_map.obj\") #mapping for node_id\n",
    "objFile = open(\"wiki-Vote_map.obj\", \"rb\")\n",
    "wikiMap = pickle.load(objFile)\n",
    "wikiList = [ele for ele in wikiMap]"
   ]
  },
  {
   "attachments": {},
   "cell_type": "markdown",
   "metadata": {},
   "source": [
    "Reorganizing the clustering to be suitable for networkx functions"
   ]
  },
  {
   "cell_type": "code",
   "execution_count": 37,
   "metadata": {},
   "outputs": [],
   "source": [
    "clusters = [[] for i in range(100)]\n",
    "for i in range(len(wikiCluster)):\n",
    "    clusters[wikiCluster[i]].append(wikiList[i])"
   ]
  },
  {
   "attachments": {},
   "cell_type": "markdown",
   "metadata": {},
   "source": [
    "Loop through each of our clusters to pull metrics"
   ]
  },
  {
   "cell_type": "code",
   "execution_count": 41,
   "metadata": {},
   "outputs": [
    {
     "data": {
      "text/html": [
       "<div>\n",
       "<style scoped>\n",
       "    .dataframe tbody tr th:only-of-type {\n",
       "        vertical-align: middle;\n",
       "    }\n",
       "\n",
       "    .dataframe tbody tr th {\n",
       "        vertical-align: top;\n",
       "    }\n",
       "\n",
       "    .dataframe thead th {\n",
       "        text-align: right;\n",
       "    }\n",
       "</style>\n",
       "<table border=\"1\" class=\"dataframe\">\n",
       "  <thead>\n",
       "    <tr style=\"text-align: right;\">\n",
       "      <th></th>\n",
       "      <th>Modularity</th>\n",
       "      <th>n-cut</th>\n",
       "      <th>Conductance</th>\n",
       "    </tr>\n",
       "  </thead>\n",
       "  <tbody>\n",
       "    <tr>\n",
       "      <th>0</th>\n",
       "      <td>0.004638</td>\n",
       "      <td>0.986629</td>\n",
       "      <td>0.973611</td>\n",
       "    </tr>\n",
       "    <tr>\n",
       "      <th>1</th>\n",
       "      <td>0.004638</td>\n",
       "      <td>0.982236</td>\n",
       "      <td>0.965093</td>\n",
       "    </tr>\n",
       "    <tr>\n",
       "      <th>2</th>\n",
       "      <td>0.004638</td>\n",
       "      <td>0.991280</td>\n",
       "      <td>0.982712</td>\n",
       "    </tr>\n",
       "    <tr>\n",
       "      <th>3</th>\n",
       "      <td>0.004638</td>\n",
       "      <td>0.977700</td>\n",
       "      <td>0.956374</td>\n",
       "    </tr>\n",
       "    <tr>\n",
       "      <th>4</th>\n",
       "      <td>0.004638</td>\n",
       "      <td>0.980661</td>\n",
       "      <td>0.962056</td>\n",
       "    </tr>\n",
       "    <tr>\n",
       "      <th>...</th>\n",
       "      <td>...</td>\n",
       "      <td>...</td>\n",
       "      <td>...</td>\n",
       "    </tr>\n",
       "    <tr>\n",
       "      <th>95</th>\n",
       "      <td>0.004638</td>\n",
       "      <td>0.998487</td>\n",
       "      <td>0.996979</td>\n",
       "    </tr>\n",
       "    <tr>\n",
       "      <th>96</th>\n",
       "      <td>0.004638</td>\n",
       "      <td>0.998440</td>\n",
       "      <td>0.996885</td>\n",
       "    </tr>\n",
       "    <tr>\n",
       "      <th>97</th>\n",
       "      <td>0.004638</td>\n",
       "      <td>0.999329</td>\n",
       "      <td>0.998660</td>\n",
       "    </tr>\n",
       "    <tr>\n",
       "      <th>98</th>\n",
       "      <td>0.004638</td>\n",
       "      <td>1.000000</td>\n",
       "      <td>1.000000</td>\n",
       "    </tr>\n",
       "    <tr>\n",
       "      <th>99</th>\n",
       "      <td>0.004638</td>\n",
       "      <td>0.996979</td>\n",
       "      <td>0.993976</td>\n",
       "    </tr>\n",
       "  </tbody>\n",
       "</table>\n",
       "<p>100 rows × 3 columns</p>\n",
       "</div>"
      ],
      "text/plain": [
       "    Modularity     n-cut  Conductance\n",
       "0     0.004638  0.986629     0.973611\n",
       "1     0.004638  0.982236     0.965093\n",
       "2     0.004638  0.991280     0.982712\n",
       "3     0.004638  0.977700     0.956374\n",
       "4     0.004638  0.980661     0.962056\n",
       "..         ...       ...          ...\n",
       "95    0.004638  0.998487     0.996979\n",
       "96    0.004638  0.998440     0.996885\n",
       "97    0.004638  0.999329     0.998660\n",
       "98    0.004638  1.000000     1.000000\n",
       "99    0.004638  0.996979     0.993976\n",
       "\n",
       "[100 rows x 3 columns]"
      ]
     },
     "execution_count": 41,
     "metadata": {},
     "output_type": "execute_result"
    }
   ],
   "source": [
    "results = []\n",
    "V = set(wikiG.nodes) #does not change\n",
    "modularity = nx.algorithms.community.modularity(wikiG, clusters) #does not change\n",
    "for i in range(100):\n",
    "    C = set(clusters[i])\n",
    "    C_bar = V - C\n",
    "    ncut = nx.cut_size(wikiG, C, C_bar) / nx.cut_size(wikiG, C, V)\n",
    "    conductance = nx.conductance(wikiG, C)\n",
    "    results.append({\"Modularity\": modularity, \"n-cut\": ncut, \"Conductance\": conductance})\n",
    "pd.DataFrame(results)"
   ]
  }
 ],
 "metadata": {
  "kernelspec": {
   "display_name": "Python 3",
   "language": "python",
   "name": "python3"
  },
  "language_info": {
   "codemirror_mode": {
    "name": "ipython",
    "version": 3
   },
   "file_extension": ".py",
   "mimetype": "text/x-python",
   "name": "python",
   "nbconvert_exporter": "python",
   "pygments_lexer": "ipython3",
   "version": "3.9.6"
  },
  "orig_nbformat": 4,
  "vscode": {
   "interpreter": {
    "hash": "31f2aee4e71d21fbe5cf8b01ff0e069b9275f58929596ceb00d14d90e3e16cd6"
   }
  }
 },
 "nbformat": 4,
 "nbformat_minor": 2
}
