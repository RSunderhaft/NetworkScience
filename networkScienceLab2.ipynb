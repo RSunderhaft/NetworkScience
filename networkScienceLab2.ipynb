{
 "cells": [
  {
   "cell_type": "code",
   "execution_count": 1,
   "metadata": {},
   "outputs": [],
   "source": [
    "# Library imports\n",
    "import networkx as nx\n",
    "import numpy as np\n",
    "import pandas as pd\n",
    "import matplotlib.pyplot as plt\n",
    "from helper import print_results, metis_map"
   ]
  },
  {
   "attachments": {},
   "cell_type": "markdown",
   "metadata": {},
   "source": [
    "# Prunning Youtube Network for Analysis"
   ]
  },
  {
   "cell_type": "code",
   "execution_count": null,
   "metadata": {},
   "outputs": [],
   "source": [
    "youtubeG = nx.read_edgelist(\"data/com-youtube.ungraph.txt\", create_using = nx.Graph, nodetype = int)"
   ]
  },
  {
   "attachments": {},
   "cell_type": "markdown",
   "metadata": {},
   "source": [
    "The next cell will make the youtube network much smaller so we can "
   ]
  },
  {
   "cell_type": "code",
   "execution_count": null,
   "metadata": {},
   "outputs": [],
   "source": [
    "\n",
    "# Obtains list of degrees that have degree less than 3\n",
    "degree_Thres = 6\n",
    "remove = [node for node,degree in dict(youtubeG.degree()).items() if  degree < degree_Thres]\n",
    "\n",
    "# Removes nodes with small degree and creates sparse matrix\n",
    "youtubeG.remove_nodes_from(remove)\n",
    "nx.write_edgelist(youtubeG,'youtube_sparse.txt', data=False)\n"
   ]
  },
  {
   "attachments": {},
   "cell_type": "markdown",
   "metadata": {},
   "source": [
    "# Cluster Analysis"
   ]
  },
  {
   "attachments": {},
   "cell_type": "markdown",
   "metadata": {},
   "source": [
    "### Data Imports\n",
    "Load in every graph. We'll look at some simple metrics to get some baseline understanding."
   ]
  },
  {
   "cell_type": "code",
   "execution_count": 2,
   "metadata": {},
   "outputs": [
    {
     "data": {
      "text/html": [
       "<div>\n",
       "<style scoped>\n",
       "    .dataframe tbody tr th:only-of-type {\n",
       "        vertical-align: middle;\n",
       "    }\n",
       "\n",
       "    .dataframe tbody tr th {\n",
       "        vertical-align: top;\n",
       "    }\n",
       "\n",
       "    .dataframe thead th {\n",
       "        text-align: right;\n",
       "    }\n",
       "</style>\n",
       "<table border=\"1\" class=\"dataframe\">\n",
       "  <thead>\n",
       "    <tr style=\"text-align: right;\">\n",
       "      <th></th>\n",
       "      <th>Graph</th>\n",
       "      <th>Node Count</th>\n",
       "      <th>Edge Count</th>\n",
       "    </tr>\n",
       "  </thead>\n",
       "  <tbody>\n",
       "    <tr>\n",
       "      <th>0</th>\n",
       "      <td>Wikipedia</td>\n",
       "      <td>7115</td>\n",
       "      <td>100762</td>\n",
       "    </tr>\n",
       "    <tr>\n",
       "      <th>1</th>\n",
       "      <td>Collaborations</td>\n",
       "      <td>5242</td>\n",
       "      <td>14496</td>\n",
       "    </tr>\n",
       "    <tr>\n",
       "      <th>2</th>\n",
       "      <td>Gnutella</td>\n",
       "      <td>6301</td>\n",
       "      <td>20777</td>\n",
       "    </tr>\n",
       "    <tr>\n",
       "      <th>3</th>\n",
       "      <td>Facebook</td>\n",
       "      <td>4039</td>\n",
       "      <td>88234</td>\n",
       "    </tr>\n",
       "    <tr>\n",
       "      <th>4</th>\n",
       "      <td>Youtube</td>\n",
       "      <td>1134890</td>\n",
       "      <td>2987624</td>\n",
       "    </tr>\n",
       "  </tbody>\n",
       "</table>\n",
       "</div>"
      ],
      "text/plain": [
       "            Graph  Node Count  Edge Count\n",
       "0       Wikipedia        7115      100762\n",
       "1  Collaborations        5242       14496\n",
       "2        Gnutella        6301       20777\n",
       "3        Facebook        4039       88234\n",
       "4         Youtube     1134890     2987624"
      ]
     },
     "execution_count": 2,
     "metadata": {},
     "output_type": "execute_result"
    }
   ],
   "source": [
    "wikiG = nx.read_edgelist(\"input/wiki-Vote.txt\", create_using = nx.Graph, nodetype = int)\n",
    "collabG = nx.read_edgelist(\"input/ca-GrQc.txt\", create_using = nx.Graph, nodetype = int)\n",
    "p2pG = nx.read_edgelist(\"input/p2p-Gnutella08.txt\", create_using = nx.Graph, nodetype = int)\n",
    "fbG = nx.read_edgelist(\"input/facebook_combined.txt\", create_using = nx.Graph, nodetype = int)\n",
    "youtubeG = nx.read_edgelist(\"input/com-youtube.ungraph.txt\", create_using = nx.Graph, nodetype = int)\n",
    "\n",
    "pd.DataFrame({\"Graph\": [\"Wikipedia\", \"Collaborations\", \"Gnutella\", \"Facebook\", \"Youtube\"],\n",
    "    \"Node Count\": [wikiG.number_of_nodes(), collabG.number_of_nodes(), p2pG.number_of_nodes(), fbG.number_of_nodes(), youtubeG.number_of_nodes()],\n",
    "    \"Edge Count\": [wikiG.number_of_edges(), collabG.number_of_edges(), p2pG.number_of_edges(), fbG.number_of_edges(), youtubeG.number_of_edges()]})"
   ]
  },
  {
   "attachments": {},
   "cell_type": "markdown",
   "metadata": {},
   "source": [
    "We use the following code to find a mapping between our Node_IDs from our original text files to our Node_IDs in the METIS files. Note that all helper functions can be found in helper.py."
   ]
  },
  {
   "cell_type": "code",
   "execution_count": 4,
   "metadata": {},
   "outputs": [],
   "source": [
    "names = [\"wiki-Vote\", \"p2p-Gnutella08\", \"facebook_combined\", \"ca-GrQc\", \"com-youtube.ungraph\"]"
   ]
  },
  {
   "cell_type": "code",
   "execution_count": null,
   "metadata": {},
   "outputs": [],
   "source": [
    "for i in names:\n",
    "    fname = \"input/\" + i + \".txt\"\n",
    "    obj_fname = \"MetisAlgo/\" + i + \"_map.obj\"\n",
    "    metis_map(fname, obj_fname)"
   ]
  },
  {
   "attachments": {},
   "cell_type": "markdown",
   "metadata": {},
   "source": [
    "We need to check if we pulled our clustering data properly. Let's look at the accuracy assuming that the Clauset-Newman-Moore algorithm is the ground truth."
   ]
  },
  {
   "cell_type": "code",
   "execution_count": null,
   "metadata": {},
   "outputs": [],
   "source": [
    "from sklearn import metrics\n",
    "metrics.accuracy_score([0, 0, 0], [1, 1, 1])"
   ]
  },
  {
   "cell_type": "code",
   "execution_count": null,
   "metadata": {},
   "outputs": [],
   "source": [
    "wiki_m = np.loadtxt(\"output/wiki-Vote.metis.part.100\")\n",
    "mmap, mlist = get_map(name)\n",
    "cluster_data = np.loadtxt('output/' + \"wiki-Vote\" + '_community.txt', dtype = int)\n",
    "cluster_map = {i[0]: i[1] for i in cluster_data}\n",
    "clustering = [cluster_map[mlist[i]] for i in range(len(mlist))]"
   ]
  },
  {
   "attachments": {},
   "cell_type": "markdown",
   "metadata": {},
   "source": [
    "### Wiki-Vote"
   ]
  },
  {
   "attachments": {},
   "cell_type": "markdown",
   "metadata": {},
   "source": [
    "Now we'll pull the three metrics (modularity, ncut, and condunctance) for clusterings without ground truth. We can get a good idea for how well each algorithm was able to group nodes with high edge density together."
   ]
  },
  {
   "cell_type": "code",
   "execution_count": 5,
   "metadata": {},
   "outputs": [],
   "source": [
    "name = names[0]\n",
    "mcl = print_results(wikiG, name, \"mcl\")\n",
    "metis = print_results(wikiG, name, \"metis\")\n",
    "community = print_results(wikiG, name, \"community\")"
   ]
  },
  {
   "attachments": {},
   "cell_type": "markdown",
   "metadata": {},
   "source": [
    "According to modularity, it seems as though the Clauset-Newman-Moore algorithm performed the best. As we can recall from Lab 1, the Wikipedia Vote network was our only directed graph. Unfortunately, none of our clustering algorithms were compatible with this information, so we had to treat it as undirected.\n",
    "\n",
    "Note that modularity is biased towards algorithms with a small number of clusters. MCL is biased towards fragmenting the clusters into a large number of clusters, thus modularity might not represent the true performance."
   ]
  },
  {
   "cell_type": "code",
   "execution_count": 6,
   "metadata": {},
   "outputs": [
    {
     "name": "stdout",
     "output_type": "stream",
     "text": [
      "Modularity of MCL: 0.01080145681798467\n",
      "Modularity of METIS: 0.004638421479492384\n",
      "Modularity of Communities: 0.35004242922498335\n"
     ]
    }
   ],
   "source": [
    "print(\"Modularity of MCL:\", mcl.Modularity[0])\n",
    "print(\"Modularity of METIS:\", metis.Modularity[0])\n",
    "print(\"Modularity of Communities:\", community.Modularity[0])"
   ]
  },
  {
   "attachments": {},
   "cell_type": "markdown",
   "metadata": {},
   "source": [
    "Let's look back at our data from Lab 1. Recall that our largest Weakly Connected Component had a size of 7066, which is only slightly smaller than our graph. It also seems as though only a small percentage of nodes receives a majority of votes. This can be seen in the histogram below where most nodes have very low closeness centrality whereas there's a small group which likely receives all the votes."
   ]
  },
  {
   "cell_type": "code",
   "execution_count": 15,
   "metadata": {},
   "outputs": [
    {
     "data": {
      "text/plain": [
       "array([[<AxesSubplot: title={'center': 'closeness'}>]], dtype=object)"
      ]
     },
     "execution_count": 15,
     "metadata": {},
     "output_type": "execute_result"
    },
    {
     "data": {
      "image/png": "[encoded data removed]",
      "text/plain": [
       "<Figure size 640x480 with 1 Axes>"
      ]
     },
     "metadata": {},
     "output_type": "display_data"
    }
   ],
   "source": [
    "pd.read_csv('lab1_results/wiki-Vote.csv').hist(column = \"closeness\")"
   ]
  },
  {
   "attachments": {},
   "cell_type": "markdown",
   "metadata": {},
   "source": [
    "Let's now take a look at the distributions for conductance and ncut. In looking at the correlation between n-cut and conductance, we can see  that both metrics return the same values almost all of the time across our three algorithms. We'll just take a look at conductance here on out (when looking at Wikipedia Network)."
   ]
  },
  {
   "cell_type": "code",
   "execution_count": 36,
   "metadata": {},
   "outputs": [
    {
     "name": "stdout",
     "output_type": "stream",
     "text": [
      "MCL: 1.0\n",
      "METIS: 1.0\n",
      "Community: 0.9997321655001824\n"
     ]
    }
   ],
   "source": [
    "print(\"MCL:\", np.corrcoef(mcl['n-cut'], mcl['Conductance'])[0, 1])\n",
    "print(\"METIS:\", np.corrcoef(metis['n-cut'], metis['Conductance'])[0, 1])\n",
    "print(\"Community:\", np.corrcoef(community['n-cut'], community['Conductance'])[0, 1])"
   ]
  },
  {
   "attachments": {},
   "cell_type": "markdown",
   "metadata": {},
   "source": [
    "Below, we will compute the mean conductance for each of our three algorithms."
   ]
  },
  {
   "cell_type": "code",
   "execution_count": 43,
   "metadata": {},
   "outputs": [
    {
     "name": "stdout",
     "output_type": "stream",
     "text": [
      "MCL: 0.9965174216840647\n",
      "METIS: 0.9938110094103872\n",
      "Community: 0.34456986372497184\n"
     ]
    }
   ],
   "source": [
    "print(\"MCL:\", mcl['Conductance'].mean())\n",
    "print(\"METIS:\", metis['Conductance'].mean())\n",
    "print(\"Community:\", community['Conductance'].mean())"
   ]
  },
  {
   "attachments": {},
   "cell_type": "markdown",
   "metadata": {},
   "source": [
    "It is apparent that the Clauset-Newman-Moore algorithm performed the best. Our mean conductance score tells us that on average, clusters retained 66% of their edges going inwards whereas only 34% of edges went outwards. The histogram below shows that it was able to get extremely low conductance on over 20 different clusters. Additionally, it achieved moderate results on several fringe clusters."
   ]
  },
  {
   "cell_type": "code",
   "execution_count": 44,
   "metadata": {},
   "outputs": [
    {
     "data": {
      "text/plain": [
       "<AxesSubplot: >"
      ]
     },
     "execution_count": 44,
     "metadata": {},
     "output_type": "execute_result"
    },
    {
     "data": {
      "image/png": "[encoded data removed]",
      "text/plain": [
       "<Figure size 640x480 with 1 Axes>"
      ]
     },
     "metadata": {},
     "output_type": "display_data"
    }
   ],
   "source": [
    "community['Conductance'].hist()"
   ]
  },
  {
   "attachments": {},
   "cell_type": "markdown",
   "metadata": {},
   "source": [
    "### Peer-To-Peer Filesharing"
   ]
  },
  {
   "attachments": {},
   "cell_type": "markdown",
   "metadata": {},
   "source": [
    "Next we'll take a look at the three metrics for clusterings our P2P Filesharing network (still no ground truth)."
   ]
  },
  {
   "cell_type": "code",
   "execution_count": 5,
   "metadata": {},
   "outputs": [],
   "source": [
    "name = names[1]\n",
    "mcl = print_results(p2pG, name, \"mcl\")\n",
    "metis = print_results(p2pG, name, \"metis\")\n",
    "community = print_results(p2pG, name, \"community\")"
   ]
  },
  {
   "attachments": {},
   "cell_type": "markdown",
   "metadata": {},
   "source": [
    "Again, the modularity was much higher for the Communities algorithm. Recall that modularity has a range of [-1/2, 1]. The fact that we're achieving positive results is good. However, we should dive into the clusterings to assess true model performance."
   ]
  },
  {
   "cell_type": "code",
   "execution_count": 6,
   "metadata": {},
   "outputs": [
    {
     "name": "stdout",
     "output_type": "stream",
     "text": [
      "Modularity of MCL: 0.0061866716778662696\n",
      "Modularity of METIS: 0.007280697160582582\n",
      "Modularity of Communities: 0.46470269904474426\n"
     ]
    }
   ],
   "source": [
    "print(\"Modularity of MCL:\", mcl.Modularity[0])\n",
    "print(\"Modularity of METIS:\", metis.Modularity[0])\n",
    "print(\"Modularity of Communities:\", community.Modularity[0])"
   ]
  },
  {
   "attachments": {},
   "cell_type": "markdown",
   "metadata": {},
   "source": [
    "To decide if we should focus on n-cut or conductance, we can look at the correlation between them. For all three algorithms, the values are always the same. Thus, we'll just look at conductance for simplicity."
   ]
  },
  {
   "cell_type": "code",
   "execution_count": 7,
   "metadata": {},
   "outputs": [
    {
     "name": "stdout",
     "output_type": "stream",
     "text": [
      "MCL: 1.0\n",
      "METIS: 1.0\n",
      "Community: 1.0\n"
     ]
    }
   ],
   "source": [
    "print(\"MCL:\", np.corrcoef(mcl['n-cut'], mcl['Conductance'])[0, 1])\n",
    "print(\"METIS:\", np.corrcoef(metis['n-cut'], metis['Conductance'])[0, 1])\n",
    "print(\"Community:\", np.corrcoef(community['n-cut'], community['Conductance'])[0, 1])"
   ]
  },
  {
   "attachments": {},
   "cell_type": "markdown",
   "metadata": {},
   "source": [
    "Similar to what we saw with the Wikipedia Vote Network, our P2P Filesharing Network was clustered much better by the Clauset-Newman-Moore algorithm. On average, 44% of edges belonging to an arbitrary cluster C were directed to another node in C. This is much better than the MCL and METIS algorithms which have less than 1% of edges returning to within the cluster."
   ]
  },
  {
   "cell_type": "code",
   "execution_count": 8,
   "metadata": {},
   "outputs": [
    {
     "name": "stdout",
     "output_type": "stream",
     "text": [
      "MCL: 0.9957944398709978\n",
      "METIS: 0.9912211240553711\n",
      "Community: 0.5568492413129087\n"
     ]
    }
   ],
   "source": [
    "print(\"MCL:\", mcl['Conductance'].mean())\n",
    "print(\"METIS:\", metis['Conductance'].mean())\n",
    "print(\"Community:\", community['Conductance'].mean())"
   ]
  },
  {
   "attachments": {},
   "cell_type": "markdown",
   "metadata": {},
   "source": [
    "### Facebook"
   ]
  },
  {
   "cell_type": "code",
   "execution_count": 31,
   "metadata": {},
   "outputs": [],
   "source": [
    "name = names[2]\n",
    "mcl = print_results(fbG, name, \"mcl\")\n",
    "metis = print_results(fbG, name, \"metis\")\n",
    "community = print_results(fbG, name, \"community\")"
   ]
  },
  {
   "attachments": {},
   "cell_type": "markdown",
   "metadata": {},
   "source": [
    "Below are the modularities for our three algorithms. This case is quite interesting, as the modularity of the MCL algorithm is highest we've seen for MCL at 0.1 and the modularity of communities algorithm is the highest we've seen overall 0.78. This means that the number of edges within communities is significantly higher than expected.\n",
    "\n",
    "Note that the type of graph has a lot of social circles. There are 1,612,010 triangles in the FB graph, over double the number of triangles in the Wikipedia Vote Network, even though FB Network has less nodes and edges. This interconnectedness allows for the Communities algorithm to have such high modularity even though we typically say that 0.3 to 0.7 is the range for well structured networks."
   ]
  },
  {
   "cell_type": "code",
   "execution_count": 32,
   "metadata": {},
   "outputs": [
    {
     "name": "stdout",
     "output_type": "stream",
     "text": [
      "Modularity of MCL: 0.10101223381157409\n",
      "Modularity of METIS: 0.02213859078723416\n",
      "Modularity of Communities: 0.7753974289288965\n"
     ]
    }
   ],
   "source": [
    "print(\"Modularity of MCL:\", mcl.Modularity[0])\n",
    "print(\"Modularity of METIS:\", metis.Modularity[0])\n",
    "print(\"Modularity of Communities:\", community.Modularity[0])"
   ]
  },
  {
   "attachments": {},
   "cell_type": "markdown",
   "metadata": {},
   "source": [
    "Next, when we look at conductance, it is very low for the Community algorithm as on average 82% of edges are returned to the same community."
   ]
  },
  {
   "cell_type": "code",
   "execution_count": 33,
   "metadata": {},
   "outputs": [
    {
     "name": "stdout",
     "output_type": "stream",
     "text": [
      "MCL: 0.9850017599659476\n",
      "METIS: 0.978996543351725\n",
      "Community: 0.17500072276861905\n"
     ]
    }
   ],
   "source": [
    "print(\"MCL:\", mcl['Conductance'].mean())\n",
    "print(\"METIS:\", metis['Conductance'].mean())\n",
    "print(\"Community:\", community['Conductance'].mean())"
   ]
  },
  {
   "attachments": {},
   "cell_type": "markdown",
   "metadata": {},
   "source": [
    "It might be helpful to look into the number of clusters generated by each algorithm. Recall that the METIS algorithm has always given us 100 clusters. Looking at MCL and Communities we can see that they have many more clusters. Given the structure of an expansive social media network, METIS likely failed due to this low number of clusters."
   ]
  },
  {
   "attachments": {},
   "cell_type": "markdown",
   "metadata": {},
   "source": [
    "### Collaborations"
   ]
  },
  {
   "cell_type": "code",
   "execution_count": null,
   "metadata": {},
   "outputs": [],
   "source": [
    "collab = np.loadtxt(\"input/ca-GrQc.txt\", dtype = int)\n",
    "for i in collab:\n",
    "    if i[0] == i[1]:\n",
    "        print(i)"
   ]
  },
  {
   "cell_type": "code",
   "execution_count": null,
   "metadata": {},
   "outputs": [],
   "source": [
    "for c in nx.connected_components(collabG):\n",
    "    if len(c) == 1:\n",
    "        print(c)"
   ]
  },
  {
   "attachments": {},
   "cell_type": "markdown",
   "metadata": {},
   "source": [
    "Our collaborations network reports an error when including node_id = 12295. It has one self-edge and is part of a one-node component as seen above meaning that it is connected to no other nodes. We have to remove this node and handle a couple of special cases for our metrics to run."
   ]
  },
  {
   "cell_type": "code",
   "execution_count": null,
   "metadata": {},
   "outputs": [],
   "source": [
    "collabG.remove_nodes_from([12295])\n",
    "mcl = print_results(collabG, names[3], \"mcl\")\n",
    "metis = print_results(collabG, names[3], \"metis\")"
   ]
  },
  {
   "attachments": {},
   "cell_type": "markdown",
   "metadata": {},
   "source": [
    "### Youtube"
   ]
  },
  {
   "cell_type": "code",
   "execution_count": 36,
   "metadata": {},
   "outputs": [],
   "source": [
    "metis = print_results(youtubeG, names[4], \"metis\")"
   ]
  },
  {
   "cell_type": "code",
   "execution_count": 38,
   "metadata": {},
   "outputs": [],
   "source": [
    "mcl = print_results(youtubeG, names[4], \"mcl\")"
   ]
  },
  {
   "cell_type": "code",
   "execution_count": null,
   "metadata": {},
   "outputs": [],
   "source": [
    "metis.to_csv('output/youtube_metis_results.csv')\n",
    "mcl.to_csv('output/youtube_mcl_results.csv')"
   ]
  }
 ],
 "metadata": {
  "kernelspec": {
   "display_name": "Python 3",
   "language": "python",
   "name": "python3"
  },
  "language_info": {
   "codemirror_mode": {
    "name": "ipython",
    "version": 3
   },
   "file_extension": ".py",
   "mimetype": "text/x-python",
   "name": "python",
   "nbconvert_exporter": "python",
   "pygments_lexer": "ipython3",
   "version": "3.9.6"
  },
  "orig_nbformat": 4,
  "vscode": {
   "interpreter": {
    "hash": "31f2aee4e71d21fbe5cf8b01ff0e069b9275f58929596ceb00d14d90e3e16cd6"
   }
  }
 },
 "nbformat": 4,
 "nbformat_minor": 2
}
