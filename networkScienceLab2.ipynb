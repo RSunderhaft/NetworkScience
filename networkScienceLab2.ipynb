{
 "cells": [
  {
   "cell_type": "code",
   "execution_count": 1,
   "metadata": {},
   "outputs": [],
   "source": [
    "# Library imports\n",
    "import networkx as nx\n",
    "import numpy as np\n",
    "import pandas as pd\n",
    "import matplotlib.pyplot as plt"
   ]
  },
  {
   "attachments": {},
   "cell_type": "markdown",
   "metadata": {},
   "source": [
    "# Prunning Youtube Network for Analysis"
   ]
  },
  {
   "cell_type": "code",
   "execution_count": 3,
   "metadata": {},
   "outputs": [],
   "source": [
    "youtubeG = nx.read_edgelist(\"data/com-youtube.ungraph.txt\", create_using = nx.Graph, nodetype = int)"
   ]
  },
  {
   "attachments": {},
   "cell_type": "markdown",
   "metadata": {},
   "source": [
    "The next cell will make the youtube network much smaller so we can "
   ]
  },
  {
   "cell_type": "code",
   "execution_count": 12,
   "metadata": {},
   "outputs": [],
   "source": [
    "\n",
    "# Obtains list of degrees that have degree less than 3\n",
    "degree_Thres = 6\n",
    "remove = [node for node,degree in dict(youtubeG.degree()).items() if  degree < degree_Thres]\n",
    "\n",
    "# Removes nodes with small degree and creates sparse matrix\n",
    "youtubeG.remove_nodes_from(remove)\n",
    "nx.write_edgelist(youtubeG,'youtube_sparse.txt', data=False)\n"
   ]
  },
  {
   "attachments": {},
   "cell_type": "markdown",
   "metadata": {},
   "source": [
    "# Cluster Analysis"
   ]
  },
  {
   "cell_type": "code",
   "execution_count": 3,
   "metadata": {},
   "outputs": [
    {
     "data": {
      "text/html": [
       "<div>\n",
       "<style scoped>\n",
       "    .dataframe tbody tr th:only-of-type {\n",
       "        vertical-align: middle;\n",
       "    }\n",
       "\n",
       "    .dataframe tbody tr th {\n",
       "        vertical-align: top;\n",
       "    }\n",
       "\n",
       "    .dataframe thead th {\n",
       "        text-align: right;\n",
       "    }\n",
       "</style>\n",
       "<table border=\"1\" class=\"dataframe\">\n",
       "  <thead>\n",
       "    <tr style=\"text-align: right;\">\n",
       "      <th></th>\n",
       "      <th>Graph</th>\n",
       "      <th>Node Count</th>\n",
       "      <th>Edge Count</th>\n",
       "    </tr>\n",
       "  </thead>\n",
       "  <tbody>\n",
       "    <tr>\n",
       "      <th>0</th>\n",
       "      <td>Wikipedia</td>\n",
       "      <td>7115.00</td>\n",
       "      <td>103689.0</td>\n",
       "    </tr>\n",
       "    <tr>\n",
       "      <th>1</th>\n",
       "      <td>Collaborations</td>\n",
       "      <td>5242.00</td>\n",
       "      <td>14496.0</td>\n",
       "    </tr>\n",
       "    <tr>\n",
       "      <th>2</th>\n",
       "      <td>Gnutella</td>\n",
       "      <td>6301.00</td>\n",
       "      <td>20777.0</td>\n",
       "    </tr>\n",
       "    <tr>\n",
       "      <th>3</th>\n",
       "      <td>Facebook</td>\n",
       "      <td>4039.00</td>\n",
       "      <td>88234.0</td>\n",
       "    </tr>\n",
       "    <tr>\n",
       "      <th>4</th>\n",
       "      <td>Mean(G)</td>\n",
       "      <td>5674.25</td>\n",
       "      <td>56799.0</td>\n",
       "    </tr>\n",
       "  </tbody>\n",
       "</table>\n",
       "</div>"
      ],
      "text/plain": [
       "            Graph  Node Count  Edge Count\n",
       "0       Wikipedia     7115.00    103689.0\n",
       "1  Collaborations     5242.00     14496.0\n",
       "2        Gnutella     6301.00     20777.0\n",
       "3        Facebook     4039.00     88234.0\n",
       "4         Mean(G)     5674.25     56799.0"
      ]
     },
     "execution_count": 3,
     "metadata": {},
     "output_type": "execute_result"
    }
   ],
   "source": [
    "wikiG = nx.read_edgelist(\"input/wiki-Vote.txt\", create_using = nx.DiGraph, nodetype = int)\n",
    "collabG = nx.read_edgelist(\"input/ca-GrQc.txt\", create_using = nx.Graph, nodetype = int)\n",
    "p2pG = nx.read_edgelist(\"input/p2p-Gnutella08.txt\", create_using = nx.Graph, nodetype = int)\n",
    "fbG = nx.read_edgelist(\"input/facebook_combined.txt\", create_using = nx.Graph, nodetype = int)\n",
    "\n",
    "mean_nodes = (wikiG.number_of_nodes() + collabG.number_of_nodes() + p2pG.number_of_nodes() + fbG.number_of_nodes()) / 4\n",
    "mean_edges = (wikiG.number_of_edges() + collabG.number_of_edges() + p2pG.number_of_edges() + fbG.number_of_edges()) / 4\n",
    "pd.DataFrame({\"Graph\": [\"Wikipedia\", \"Collaborations\", \"Gnutella\", \"Facebook\", \"Mean(G)\"],\n",
    "    \"Node Count\": [wikiG.number_of_nodes(), collabG.number_of_nodes(), p2pG.number_of_nodes(), fbG.number_of_nodes(), mean_nodes],\n",
    "    \"Edge Count\": [wikiG.number_of_edges(), collabG.number_of_edges(), p2pG.number_of_edges(), fbG.number_of_edges(), mean_edges]})"
   ]
  },
  {
   "cell_type": "code",
   "execution_count": 17,
   "metadata": {},
   "outputs": [
    {
     "data": {
      "text/plain": [
       "7115"
      ]
     },
     "execution_count": 17,
     "metadata": {},
     "output_type": "execute_result"
    }
   ],
   "source": [
    "wikiCluster = np.loadtxt(\"output/wiki-Vote.metis.part.100\")\n",
    "len(wikiCluster)"
   ]
  }
 ],
 "metadata": {
  "kernelspec": {
   "display_name": "Python 3",
   "language": "python",
   "name": "python3"
  },
  "language_info": {
   "codemirror_mode": {
    "name": "ipython",
    "version": 3
   },
   "file_extension": ".py",
   "mimetype": "text/x-python",
   "name": "python",
   "nbconvert_exporter": "python",
   "pygments_lexer": "ipython3",
   "version": "3.9.6"
  },
  "orig_nbformat": 4,
  "vscode": {
   "interpreter": {
    "hash": "31f2aee4e71d21fbe5cf8b01ff0e069b9275f58929596ceb00d14d90e3e16cd6"
   }
  }
 },
 "nbformat": 4,
 "nbformat_minor": 2
}
